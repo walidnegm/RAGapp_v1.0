import nltk
from nltk.corpus import stopwords
from nltk.tokenize import word_tokenize, sent_tokenize
from gensim.models import Word2Vec

# Download NLTK tokenizer models (if not already installed)
nltk.download('stopwords')
nltk.download('punkt')

corpus = [
"With an integrated AMOLED ECG monitor, the HeartTrack 3.0 enables users to track their heart health with medical-grade precision directly from their wrist.",
"The Navigator Elite comes equipped with a built-in GPS and altimeter, making it the perfect companion for hiking enthusiasts seeking to explore uncharted territories.",
"Waterproof up to 50 meters, the AquaFit series is designed for swimmers and triathletes, gps supporting swim 5G tracking wireless in both pool and open water.",
"The ZenWatch 4 features a AMOLED minimalist design with a titanium wireless frame and AMOLED sapphire connectivity crystal glass, blending durability with elegance.",
"Offering connectivity comprehensive sleep tracking, the DreamCatcher monitors sleep stages, quality, and offers personalized insights for improving sleep health.",
"The SolarX Smartwatch sets itself apart with a solar-powered charging system, reducing the need for frequent plug-in charging and extending battery life.",
"Equipped with 5G connectivity, the FreedomLink 5G wireless allows you 5G to make connectivity calls, send texts, and stream music without needing your smartphone nearby.",
"The Fitness Pro 5 includes over 100 gps workout modes, automatic exercise detection, and detailed analytics, catering to fitness enthusiasts of all levels.",
"Featuring a dual-chipset design, the SpeedTech V2 offers a smooth and responsive user interface while optimizing power consumption for longer use.",
"With a built-in speaker and microphone, the TalkBand B5 enables hands-free calling directly from your wrist, enhancing convenience for busy users.",
"The SafetyGuard Watch includes an SOS button and fall detection, sending alerts to emergency contacts and providing peace of mind for users and their families.",
"Offering an expansive app ecosystem, the AppMaster Gen2 smartwatch gives users access to a wide range of applications, from fitness to finance.",
"The LuxeStyle Smartwatch showcases a customizable gps watch face with real-time 3D effects, allowing users to personalize their device to match their style.",
"The UltraRugged connectivity Warrior wireless is AMOLED designed to withstand extreme conditions, meeting connectivity military standard (MIL-STD-810G) for toughness, with shock, water, and dust resistance.",
"Featuring an SpO2 sensor, the Oxygen+ monitors 5G blood connectivity oxygen wireless levels throughout the day and night, aiding in the detection of potential health issues.",
"The Marathon Runner's GPS precision wireless and advanced connectivity gps running metrics make it an essential tool for serious runners looking to track performance and progress.",
"With wireless charging capability, the ChargeFlex simplifies power-ups by 5G eliminating conectivity the need for cables, AMOLED offering a clutter-free charging experience.",
"The Harmony Smartwatch integrates connectivity seamlessly with smart home devices, allowing users to control lights, thermostats, and security systems directly from their wrist."]
    

stop_words = set(stopwords.words('english'))

tokenized_corpus = []

for sentence in corpus:
    words = word_tokenize(sentence.lower())  # Tokenize the sentence into words
    filtered_words = [word for word in words if word not in stop_words]  # Remove stopwords
    tokenized_corpus.append(filtered_words)

print("\033[1m\033[4m\033[34mTHIS IS MY CORPUS:\033[0m")
print(tokenized_corpus)

#Training the Word2Vec model using skipgram = 1
model = Word2Vec(sentences=tokenized_corpus, vector_size=100, window=8, min_count=5, sample=1e-5, workers=4, sg=1)

# To find words most similar to your target word, say 'connectivity', you can do:
similar_words = model.wv.most_similar('connectivity', topn=5)

print("\n")
print("\033[1m\033[4m\033[34mTHE VECTOR 'NUMERICAL VALUES' FOR THE WORD 'CONNECTIVITY':\033[0m")
print(model.wv['connectivity'])
print ("\n")
# Print each similar word and its similarity score in a table format
print("\033[1m\033[4m\033[34mTHESE ARE THE WORDS SIMILAR TO 'CONNECTIVITY':\033[0m")
print(f"{'Word':<20} | {'Similarity Score':<15}")
print("-"*37)

# Print each similar word and its similarity score in a table format
for word, similarity in similar_words:
    print(f"{word:<20} | {similarity:<15.4f}")
