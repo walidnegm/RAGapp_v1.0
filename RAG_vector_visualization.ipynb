from sklearn.manifold import TSNE
import matplotlib.pyplot as plt
from mpl_toolkits.mplot3d import Axes3D  # This is needed for 3D plotting

# Assuming `model` is your trained Word2Vec model
# Let's choose some words to visualize along with 'heart' and its most similar words
words = ['connectivity'] + [word for word, _ in model.wv.most_similar('connectivity', topn=10)]

# Extracting the vectors for the selected words
word_vectors = model.wv[words]

# Using t-SNE to reduce dimensionality to 3D for visualization
tsne = TSNE(n_components=3, random_state=0, perplexity=5)  # Perplexity is set considering the small number of words
word_vectors_3d = tsne.fit_transform(word_vectors)

# Plotting in 3D
fig = plt.figure(figsize=(10, 8))
ax = fig.add_subplot(111, projection='3d')

# Extracting the 3 dimensions
x, y, z = word_vectors_3d[:,0], word_vectors_3d[:,1], word_vectors_3d[:,2]

ax.scatter(x, y, z)

for i, word in enumerate(words):
    ax.text(x[i], y[i], z[i], word)

ax.set_title('3D Visualization of Word Vectors')
ax.set_xlabel('Vector Dimension 1')
ax.set_ylabel('Vector Dimension 2')
ax.set_zlabel('Vector Dimension 3')
plt.show()
